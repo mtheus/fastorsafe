{
 "cells": [
  {
   "cell_type": "code",
   "execution_count": 7,
   "metadata": {},
   "outputs": [
    {
     "name": "stdout",
     "output_type": "stream",
     "text": [
      "Alpha: 0.11786467779171651, Beta: -1.4824915844102664, Gamma: 0.45366165030276323\n"
     ]
    }
   ],
   "source": [
    "import numpy as np\n",
    "import pandas as pd\n",
    "from scipy.optimize import curve_fit\n",
    "\n",
    "file_path_csv = 'analise_user_r.csv'\n",
    "data_csv = pd.read_csv(file_path_csv)\n",
    "\n",
    "QoS = data_csv['QoS_R'].values\n",
    "QoE = data_csv['QoE_R'].values\n",
    "\n",
    "# Definição da função exponencial\n",
    "def QoS_to_QoE(x, alpha, beta, gamma):\n",
    "    return alpha * np.exp(-beta * x) + gamma\n",
    "\n",
    "# Ajuste do modelo\n",
    "params, covariance = curve_fit(QoS_to_QoE, QoS, QoE)\n",
    "\n",
    "alpha, beta, gamma = params\n",
    "\n",
    "print(f'Alpha: {alpha}, Beta: {beta}, Gamma: {gamma}')\n",
    "\n"
   ]
  }
 ],
 "metadata": {
  "kernelspec": {
   "display_name": "Python 3",
   "language": "python",
   "name": "python3"
  },
  "language_info": {
   "codemirror_mode": {
    "name": "ipython",
    "version": 3
   },
   "file_extension": ".py",
   "mimetype": "text/x-python",
   "name": "python",
   "nbconvert_exporter": "python",
   "pygments_lexer": "ipython3",
   "version": "3.11.9"
  }
 },
 "nbformat": 4,
 "nbformat_minor": 2
}
